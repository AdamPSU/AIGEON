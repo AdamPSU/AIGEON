{
 "cells": [
  {
   "cell_type": "code",
   "execution_count": null,
   "metadata": {},
   "outputs": [
    {
     "name": "stdout",
     "output_type": "stream",
     "text": [
      "Loading geographic boundaries ...\n"
     ]
    }
   ],
   "source": [
    "import pandas as pd\n",
    "from dataset_creation.geocell import GeocellCreator\n",
    "\n",
    "df = pd.read_csv('data/training/locations/locations.csv')\n",
    "geocell_creator = GeocellCreator(df, 'data/geocells/cells/inat2017_cells.csv')\n",
    "geocells = geocell_creator.generate()"
   ]
  }
 ],
 "metadata": {
  "kernelspec": {
   "display_name": "venv",
   "language": "python",
   "name": "python3"
  },
  "language_info": {
   "codemirror_mode": {
    "name": "ipython",
    "version": 3
   },
   "file_extension": ".py",
   "mimetype": "text/x-python",
   "name": "python",
   "nbconvert_exporter": "python",
   "pygments_lexer": "ipython3",
   "version": "3.11.9"
  }
 },
 "nbformat": 4,
 "nbformat_minor": 2
}

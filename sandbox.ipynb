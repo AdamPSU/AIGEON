{
 "cells": [
  {
   "cell_type": "code",
   "execution_count": null,
   "metadata": {},
   "outputs": [],
   "source": [
    "import geopandas as gpd\n",
    "import pandas as pd \n",
    " \n",
    "from config import ADMIN_0_PATH, ADMIN_1_PATH, ADMIN_2_PATH\n",
    "\n",
    "ADMIN_IDS = ['GID_0', 'GID_1', 'GID_2']\n",
    "location_path = 'data/training/locations/locations.csv'\n",
    "\n",
    "adm_0_gdf = gpd.read_file(ADMIN_0_PATH)\n",
    "adm_1_gdf = gpd.read_file(ADMIN_1_PATH)\n",
    "adm_2_gdf = gpd.read_file(ADMIN_2_PATH)\n",
    "\n",
    "df = pd.read_csv(location_path)\n",
    "gdf = gpd.GeoDataFrame(\n",
    "    df, \n",
    "    geometry=gpd.points_from_xy(df['lng'], df['lat']), \n",
    ")"
   ]
  },
  {
   "cell_type": "code",
   "execution_count": 6,
   "metadata": {},
   "outputs": [
    {
     "ename": "ImportError",
     "evalue": "cannot import name 'GeocellCreator' from 'dataset_creation' (unknown location)",
     "output_type": "error",
     "traceback": [
      "\u001b[31m---------------------------------------------------------------------------\u001b[39m",
      "\u001b[31mImportError\u001b[39m                               Traceback (most recent call last)",
      "\u001b[36mCell\u001b[39m\u001b[36m \u001b[39m\u001b[32mIn[6]\u001b[39m\u001b[32m, line 1\u001b[39m\n\u001b[32m----> \u001b[39m\u001b[32m1\u001b[39m \u001b[38;5;28;01mfrom\u001b[39;00m\u001b[38;5;250m \u001b[39m\u001b[34;01mdataset_creation\u001b[39;00m\u001b[38;5;250m \u001b[39m\u001b[38;5;28;01mimport\u001b[39;00m GeocellCreator\n\u001b[32m      3\u001b[39m df = pd.read_csv(\u001b[33m'\u001b[39m\u001b[33mdata/training/locations/locations.csv\u001b[39m\u001b[33m'\u001b[39m)\n\u001b[32m      4\u001b[39m geocell_creator = GeocellCreator(df, \u001b[33m'\u001b[39m\u001b[33mdata/geocells/cells/inat2017_cells.csv\u001b[39m\u001b[33m'\u001b[39m)\n",
      "\u001b[31mImportError\u001b[39m: cannot import name 'GeocellCreator' from 'dataset_creation' (unknown location)"
     ]
    }
   ],
   "source": [
    "from dataset_creation import GeocellCreator\n",
    "\n",
    "df = pd.read_csv('data/training/locations/locations.csv')\n",
    "geocell_creator = GeocellCreator(df, 'data/geocells/cells/inat2017_cells.csv')\n",
    "geocells = geocell_creator.generate()"
   ]
  }
 ],
 "metadata": {
  "kernelspec": {
   "display_name": "venv",
   "language": "python",
   "name": "python3"
  },
  "language_info": {
   "codemirror_mode": {
    "name": "ipython",
    "version": 3
   },
   "file_extension": ".py",
   "mimetype": "text/x-python",
   "name": "python",
   "nbconvert_exporter": "python",
   "pygments_lexer": "ipython3",
   "version": "3.11.9"
  }
 },
 "nbformat": 4,
 "nbformat_minor": 2
}
